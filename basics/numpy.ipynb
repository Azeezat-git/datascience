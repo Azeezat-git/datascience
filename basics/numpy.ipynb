{
  "nbformat": 4,
  "nbformat_minor": 0,
  "metadata": {
    "colab": {
      "provenance": [],
      "authorship_tag": "ABX9TyNPv5U6POhQsaN95IrvQshH",
      "include_colab_link": true
    },
    "kernelspec": {
      "name": "python3",
      "display_name": "Python 3"
    },
    "language_info": {
      "name": "python"
    }
  },
  "cells": [
    {
      "cell_type": "markdown",
      "metadata": {
        "id": "view-in-github",
        "colab_type": "text"
      },
      "source": [
        "<a href=\"https://colab.research.google.com/github/Azeezat-git/datascience/blob/main/basics/numpy.ipynb\" target=\"_parent\"><img src=\"https://colab.research.google.com/assets/colab-badge.svg\" alt=\"Open In Colab\"/></a>"
      ]
    },
    {
      "cell_type": "code",
      "execution_count": 3,
      "metadata": {
        "id": "Vg6QZRq8A6Hl"
      },
      "outputs": [],
      "source": [
        "import numpy as np"
      ]
    },
    {
      "cell_type": "code",
      "source": [
        "list2=[10,20,30,40]\n",
        "np_array_list=np.array(list2)\n",
        "print(np_array_list)"
      ],
      "metadata": {
        "id": "bq0_Sje6Fll5",
        "colab": {
          "base_uri": "https://localhost:8080/"
        },
        "outputId": "fc2a338f-8375-4e2d-9426-d0ff8a729e9d"
      },
      "execution_count": 4,
      "outputs": [
        {
          "output_type": "stream",
          "name": "stdout",
          "text": [
            "[10 20 30 40]\n"
          ]
        }
      ]
    },
    {
      "cell_type": "code",
      "source": [
        "np_random=np.random.randint(10,100)\n",
        "print(np_random)\n",
        "type(np_random)"
      ],
      "metadata": {
        "colab": {
          "base_uri": "https://localhost:8080/"
        },
        "id": "bv8w810p623a",
        "outputId": "55243cd2-3637-484b-9533-d916be20ec59"
      },
      "execution_count": 8,
      "outputs": [
        {
          "output_type": "stream",
          "name": "stdout",
          "text": [
            "81\n"
          ]
        },
        {
          "output_type": "execute_result",
          "data": {
            "text/plain": [
              "int"
            ]
          },
          "metadata": {},
          "execution_count": 8
        }
      ]
    },
    {
      "cell_type": "code",
      "source": [
        "np_mist=np.asarray(list2)\n",
        "type(np_mist)"
      ],
      "metadata": {
        "colab": {
          "base_uri": "https://localhost:8080/"
        },
        "id": "BJmWoUpt7C2X",
        "outputId": "53a14fbd-9e44-42b2-ccb5-15fd62ede1e0"
      },
      "execution_count": 9,
      "outputs": [
        {
          "output_type": "execute_result",
          "data": {
            "text/plain": [
              "numpy.ndarray"
            ]
          },
          "metadata": {},
          "execution_count": 9
        }
      ]
    },
    {
      "cell_type": "code",
      "source": [
        "np_matrix_int=np.random.randint(10,90,(6,4))\n",
        "print(np_matrix_int)"
      ],
      "metadata": {
        "colab": {
          "base_uri": "https://localhost:8080/"
        },
        "id": "x10cYt5F7ZeP",
        "outputId": "011165cd-5e64-4ef2-f946-910b19c97305"
      },
      "execution_count": 12,
      "outputs": [
        {
          "output_type": "stream",
          "name": "stdout",
          "text": [
            "[[15 86 66 18]\n",
            " [72 60 24 18]\n",
            " [24 61 40 40]\n",
            " [58 68 73 47]\n",
            " [54 73 77 41]\n",
            " [24 13 73 36]]\n"
          ]
        }
      ]
    },
    {
      "cell_type": "code",
      "source": [
        "np_zero=np.zeros((3,4))\n",
        "print(np_zero)"
      ],
      "metadata": {
        "colab": {
          "base_uri": "https://localhost:8080/"
        },
        "id": "Hyesn_Hv73mq",
        "outputId": "825bd41f-0527-4160-9a67-bfff7013fbb2"
      },
      "execution_count": 16,
      "outputs": [
        {
          "output_type": "stream",
          "name": "stdout",
          "text": [
            "[[0. 0. 0. 0.]\n",
            " [0. 0. 0. 0.]\n",
            " [0. 0. 0. 0.]]\n"
          ]
        }
      ]
    },
    {
      "cell_type": "code",
      "source": [
        "np_ones=np.ones((3,4))\n",
        "print(np_ones)"
      ],
      "metadata": {
        "colab": {
          "base_uri": "https://localhost:8080/"
        },
        "id": "q2JXdrrE8mEn",
        "outputId": "28045f4f-1437-499d-de4f-77c31853a51c"
      },
      "execution_count": 17,
      "outputs": [
        {
          "output_type": "stream",
          "name": "stdout",
          "text": [
            "[[1. 1. 1. 1.]\n",
            " [1. 1. 1. 1.]\n",
            " [1. 1. 1. 1.]]\n"
          ]
        }
      ]
    },
    {
      "cell_type": "code",
      "source": [
        "np_full=np.full((2,6),13)\n",
        "print(np_full)"
      ],
      "metadata": {
        "colab": {
          "base_uri": "https://localhost:8080/"
        },
        "id": "34OuCDnJ8tEf",
        "outputId": "6c5dad1b-6a57-4de7-f05d-78af0857cad4"
      },
      "execution_count": 20,
      "outputs": [
        {
          "output_type": "stream",
          "name": "stdout",
          "text": [
            "[[13 13 13 13 13 13]\n",
            " [13 13 13 13 13 13]]\n"
          ]
        }
      ]
    },
    {
      "cell_type": "markdown",
      "source": [
        "Mathematical operations on a np array\n"
      ],
      "metadata": {
        "id": "p-FtnZh09teZ"
      }
    },
    {
      "cell_type": "code",
      "source": [
        "list1=[1,2,3,4,5]\n",
        "list2=[6,7,8,9,10]\n",
        "print(list1+list2)"
      ],
      "metadata": {
        "colab": {
          "base_uri": "https://localhost:8080/"
        },
        "id": "qzHfwe-f9znX",
        "outputId": "c5900577-a936-4642-9ab0-c7414898d30f"
      },
      "execution_count": 21,
      "outputs": [
        {
          "output_type": "stream",
          "name": "stdout",
          "text": [
            "[1, 2, 3, 4, 5, 6, 7, 8, 9, 10]\n"
          ]
        }
      ]
    },
    {
      "cell_type": "code",
      "source": [
        "a=np.random.randint(0,10,(3,3))\n",
        "b=np.random.randint(10,20,(3,3))\n",
        "\n",
        "# print(a)\n",
        "# print(b)\n",
        "print(a+b)"
      ],
      "metadata": {
        "colab": {
          "base_uri": "https://localhost:8080/"
        },
        "id": "f2hmlXK3-CFS",
        "outputId": "fb681de2-dc56-4e59-caab-b616c7a04699"
      },
      "execution_count": 24,
      "outputs": [
        {
          "output_type": "stream",
          "name": "stdout",
          "text": [
            "[[17 17 26]\n",
            " [25 27 22]\n",
            " [22 11 16]]\n"
          ]
        }
      ]
    },
    {
      "cell_type": "code",
      "source": [
        "print(np.add(a,b))\n",
        "print(np.subtract(a,b))\n",
        "print(np.multiply(a,b))\n",
        "print(np.divide(a,b))"
      ],
      "metadata": {
        "colab": {
          "base_uri": "https://localhost:8080/"
        },
        "id": "V_GehsCr-hXr",
        "outputId": "109e12b8-2d73-4f02-8ef9-0a5a2741e7bb"
      },
      "execution_count": 27,
      "outputs": [
        {
          "output_type": "stream",
          "name": "stdout",
          "text": [
            "[[17 17 26]\n",
            " [25 27 22]\n",
            " [22 11 16]]\n",
            "[[ -5  -9 -12]\n",
            " [ -9 -11 -10]\n",
            " [-10  -9 -16]]\n",
            "[[ 66  52 133]\n",
            " [136 152  96]\n",
            " [ 96  10   0]]\n",
            "[[0.54545455 0.30769231 0.36842105]\n",
            " [0.47058824 0.42105263 0.375     ]\n",
            " [0.375      0.1        0.        ]]\n"
          ]
        }
      ]
    },
    {
      "cell_type": "markdown",
      "source": [
        "Array Manipulation"
      ],
      "metadata": {
        "id": "KsF7bR_3-4x1"
      }
    },
    {
      "cell_type": "code",
      "source": [
        "array = np.random.randint(0,10,(2,3))\n",
        "print(array)\n",
        "print(array.shape)"
      ],
      "metadata": {
        "colab": {
          "base_uri": "https://localhost:8080/"
        },
        "id": "7mLw4dMv-32N",
        "outputId": "8f4b0bf1-2044-4010-936d-fd9ee5a49a89"
      },
      "execution_count": 28,
      "outputs": [
        {
          "output_type": "stream",
          "name": "stdout",
          "text": [
            "[[8 4 6]\n",
            " [3 8 7]]\n",
            "(2, 3)\n"
          ]
        }
      ]
    },
    {
      "cell_type": "code",
      "source": [
        "trans = np.transpose(array)\n",
        "print(trans)\n",
        "print(trans.shape)"
      ],
      "metadata": {
        "colab": {
          "base_uri": "https://localhost:8080/"
        },
        "id": "-aD5Aml6_Row",
        "outputId": "a6949a31-3acc-4fe3-ef76-18d1131a5fa6"
      },
      "execution_count": 30,
      "outputs": [
        {
          "output_type": "stream",
          "name": "stdout",
          "text": [
            "[[8 3]\n",
            " [4 8]\n",
            " [6 7]]\n",
            "(3, 2)\n"
          ]
        }
      ]
    },
    {
      "cell_type": "code",
      "source": [
        "trans2=array.T\n",
        "print(trans2)\n",
        "print(trans2.shape)"
      ],
      "metadata": {
        "colab": {
          "base_uri": "https://localhost:8080/"
        },
        "id": "W0r7c2mV_eJR",
        "outputId": "a98b46a6-4d59-429f-aeb8-6cfc490d41db"
      },
      "execution_count": 31,
      "outputs": [
        {
          "output_type": "stream",
          "name": "stdout",
          "text": [
            "[[8 3]\n",
            " [4 8]\n",
            " [6 7]]\n",
            "(3, 2)\n"
          ]
        }
      ]
    },
    {
      "cell_type": "code",
      "source": [
        "a=np.random.randint(0,10,(2,3))\n",
        "print(a)\n",
        "print(a.shape)\n",
        "b=a.reshape(2,3)\n",
        "print(b)\n",
        "print(b.shape)"
      ],
      "metadata": {
        "colab": {
          "base_uri": "https://localhost:8080/"
        },
        "id": "xw2Eu-MV_q20",
        "outputId": "1749b545-bda9-4e73-e6a3-0f299109e571"
      },
      "execution_count": 33,
      "outputs": [
        {
          "output_type": "stream",
          "name": "stdout",
          "text": [
            "[[6 1 8]\n",
            " [2 4 4]]\n",
            "(2, 3)\n",
            "[[6 1 8]\n",
            " [2 4 4]]\n",
            "(2, 3)\n"
          ]
        }
      ]
    }
  ]
}